{
 "cells": [
  {
   "cell_type": "code",
   "execution_count": 58,
   "id": "1a6a0e35",
   "metadata": {},
   "outputs": [],
   "source": [
    "import torch \n",
    "import torch.nn as nn\n",
    "import torch.nn.functional as F\n",
    "from sklearn.model_selection import train_test_split"
   ]
  },
  {
   "cell_type": "code",
   "execution_count": 13,
   "id": "81c39535",
   "metadata": {},
   "outputs": [],
   "source": [
    "class Model(nn.Module):\n",
    "\n",
    "    # input layer four feature of the flower,    \n",
    "    #    1. sepal length in cm\n",
    "    #    2. sepal width in cm\n",
    "    #    3. petal length in cm\n",
    "    #    4. petal width in cm\n",
    "    # Hidden Layer one (some number of neurons)\n",
    "    # H2\n",
    "    # output 3 classes of iris flowers\n",
    "    def __init__(self, in_features=4, h1=8, h2=9, out_features=3):\n",
    "        super().__init__()\n",
    "        self.fc1 = nn.Linear(in_features, h1)\n",
    "        self.fc2 = nn.Linear(h1, h2)\n",
    "        self.out = nn.Linear(h2, out_features)\n",
    "        \n",
    "    def forward(self, x):\n",
    "        x = F.relu(self.fc1(x))\n",
    "        x = F.relu(self.fc2(x))\n",
    "        x = self.out(x)\n",
    "        \n",
    "        return x\n",
    "        "
   ]
  },
  {
   "cell_type": "code",
   "execution_count": 14,
   "id": "2933b818",
   "metadata": {},
   "outputs": [
    {
     "data": {
      "text/plain": [
       "<torch._C.Generator at 0x7fe5f8f68c90>"
      ]
     },
     "execution_count": 14,
     "metadata": {},
     "output_type": "execute_result"
    }
   ],
   "source": [
    "torch.manual_seed(42)"
   ]
  },
  {
   "cell_type": "code",
   "execution_count": 15,
   "id": "e87f48d9",
   "metadata": {},
   "outputs": [],
   "source": [
    "model = Model()"
   ]
  },
  {
   "cell_type": "code",
   "execution_count": 19,
   "id": "26c7058d",
   "metadata": {},
   "outputs": [],
   "source": [
    "import pandas as pd\n",
    "import matplotlib.pyplot as plt\n",
    "%matplotlib inline"
   ]
  },
  {
   "cell_type": "code",
   "execution_count": 27,
   "id": "feb9fe1f",
   "metadata": {},
   "outputs": [],
   "source": [
    "my_df = pd.read_csv(\"/Users/benjamin/Downloads/iris/iris.data\", header=None)"
   ]
  },
  {
   "cell_type": "code",
   "execution_count": 42,
   "id": "8c0b4676",
   "metadata": {},
   "outputs": [],
   "source": [
    "# change last column from string to int\n",
    "my_df.iloc[:,4] = my_df.iloc[:,4].replace(\"Iris-virginica\", 2)\n",
    "\n"
   ]
  },
  {
   "cell_type": "code",
   "execution_count": 53,
   "id": "09906d14",
   "metadata": {},
   "outputs": [],
   "source": [
    "X = my_df.drop(columns=4, axis=1)\n",
    "y = my_df.iloc[:,4]"
   ]
  },
  {
   "cell_type": "code",
   "execution_count": 54,
   "id": "94489516",
   "metadata": {},
   "outputs": [],
   "source": [
    "# convert to numpy array\n",
    "X = X.values\n",
    "y = y.values\n"
   ]
  },
  {
   "cell_type": "code",
   "execution_count": 56,
   "id": "b60a9143",
   "metadata": {},
   "outputs": [
    {
     "data": {
      "text/plain": [
       "array([[5.1, 3.5, 1.4, 0.2],\n",
       "       [4.9, 3. , 1.4, 0.2],\n",
       "       [4.7, 3.2, 1.3, 0.2],\n",
       "       [4.6, 3.1, 1.5, 0.2],\n",
       "       [5. , 3.6, 1.4, 0.2],\n",
       "       [5.4, 3.9, 1.7, 0.4],\n",
       "       [4.6, 3.4, 1.4, 0.3],\n",
       "       [5. , 3.4, 1.5, 0.2],\n",
       "       [4.4, 2.9, 1.4, 0.2],\n",
       "       [4.9, 3.1, 1.5, 0.1],\n",
       "       [5.4, 3.7, 1.5, 0.2],\n",
       "       [4.8, 3.4, 1.6, 0.2],\n",
       "       [4.8, 3. , 1.4, 0.1],\n",
       "       [4.3, 3. , 1.1, 0.1],\n",
       "       [5.8, 4. , 1.2, 0.2],\n",
       "       [5.7, 4.4, 1.5, 0.4],\n",
       "       [5.4, 3.9, 1.3, 0.4],\n",
       "       [5.1, 3.5, 1.4, 0.3],\n",
       "       [5.7, 3.8, 1.7, 0.3],\n",
       "       [5.1, 3.8, 1.5, 0.3],\n",
       "       [5.4, 3.4, 1.7, 0.2],\n",
       "       [5.1, 3.7, 1.5, 0.4],\n",
       "       [4.6, 3.6, 1. , 0.2],\n",
       "       [5.1, 3.3, 1.7, 0.5],\n",
       "       [4.8, 3.4, 1.9, 0.2],\n",
       "       [5. , 3. , 1.6, 0.2],\n",
       "       [5. , 3.4, 1.6, 0.4],\n",
       "       [5.2, 3.5, 1.5, 0.2],\n",
       "       [5.2, 3.4, 1.4, 0.2],\n",
       "       [4.7, 3.2, 1.6, 0.2],\n",
       "       [4.8, 3.1, 1.6, 0.2],\n",
       "       [5.4, 3.4, 1.5, 0.4],\n",
       "       [5.2, 4.1, 1.5, 0.1],\n",
       "       [5.5, 4.2, 1.4, 0.2],\n",
       "       [4.9, 3.1, 1.5, 0.1],\n",
       "       [5. , 3.2, 1.2, 0.2],\n",
       "       [5.5, 3.5, 1.3, 0.2],\n",
       "       [4.9, 3.1, 1.5, 0.1],\n",
       "       [4.4, 3. , 1.3, 0.2],\n",
       "       [5.1, 3.4, 1.5, 0.2],\n",
       "       [5. , 3.5, 1.3, 0.3],\n",
       "       [4.5, 2.3, 1.3, 0.3],\n",
       "       [4.4, 3.2, 1.3, 0.2],\n",
       "       [5. , 3.5, 1.6, 0.6],\n",
       "       [5.1, 3.8, 1.9, 0.4],\n",
       "       [4.8, 3. , 1.4, 0.3],\n",
       "       [5.1, 3.8, 1.6, 0.2],\n",
       "       [4.6, 3.2, 1.4, 0.2],\n",
       "       [5.3, 3.7, 1.5, 0.2],\n",
       "       [5. , 3.3, 1.4, 0.2],\n",
       "       [7. , 3.2, 4.7, 1.4],\n",
       "       [6.4, 3.2, 4.5, 1.5],\n",
       "       [6.9, 3.1, 4.9, 1.5],\n",
       "       [5.5, 2.3, 4. , 1.3],\n",
       "       [6.5, 2.8, 4.6, 1.5],\n",
       "       [5.7, 2.8, 4.5, 1.3],\n",
       "       [6.3, 3.3, 4.7, 1.6],\n",
       "       [4.9, 2.4, 3.3, 1. ],\n",
       "       [6.6, 2.9, 4.6, 1.3],\n",
       "       [5.2, 2.7, 3.9, 1.4],\n",
       "       [5. , 2. , 3.5, 1. ],\n",
       "       [5.9, 3. , 4.2, 1.5],\n",
       "       [6. , 2.2, 4. , 1. ],\n",
       "       [6.1, 2.9, 4.7, 1.4],\n",
       "       [5.6, 2.9, 3.6, 1.3],\n",
       "       [6.7, 3.1, 4.4, 1.4],\n",
       "       [5.6, 3. , 4.5, 1.5],\n",
       "       [5.8, 2.7, 4.1, 1. ],\n",
       "       [6.2, 2.2, 4.5, 1.5],\n",
       "       [5.6, 2.5, 3.9, 1.1],\n",
       "       [5.9, 3.2, 4.8, 1.8],\n",
       "       [6.1, 2.8, 4. , 1.3],\n",
       "       [6.3, 2.5, 4.9, 1.5],\n",
       "       [6.1, 2.8, 4.7, 1.2],\n",
       "       [6.4, 2.9, 4.3, 1.3],\n",
       "       [6.6, 3. , 4.4, 1.4],\n",
       "       [6.8, 2.8, 4.8, 1.4],\n",
       "       [6.7, 3. , 5. , 1.7],\n",
       "       [6. , 2.9, 4.5, 1.5],\n",
       "       [5.7, 2.6, 3.5, 1. ],\n",
       "       [5.5, 2.4, 3.8, 1.1],\n",
       "       [5.5, 2.4, 3.7, 1. ],\n",
       "       [5.8, 2.7, 3.9, 1.2],\n",
       "       [6. , 2.7, 5.1, 1.6],\n",
       "       [5.4, 3. , 4.5, 1.5],\n",
       "       [6. , 3.4, 4.5, 1.6],\n",
       "       [6.7, 3.1, 4.7, 1.5],\n",
       "       [6.3, 2.3, 4.4, 1.3],\n",
       "       [5.6, 3. , 4.1, 1.3],\n",
       "       [5.5, 2.5, 4. , 1.3],\n",
       "       [5.5, 2.6, 4.4, 1.2],\n",
       "       [6.1, 3. , 4.6, 1.4],\n",
       "       [5.8, 2.6, 4. , 1.2],\n",
       "       [5. , 2.3, 3.3, 1. ],\n",
       "       [5.6, 2.7, 4.2, 1.3],\n",
       "       [5.7, 3. , 4.2, 1.2],\n",
       "       [5.7, 2.9, 4.2, 1.3],\n",
       "       [6.2, 2.9, 4.3, 1.3],\n",
       "       [5.1, 2.5, 3. , 1.1],\n",
       "       [5.7, 2.8, 4.1, 1.3],\n",
       "       [6.3, 3.3, 6. , 2.5],\n",
       "       [5.8, 2.7, 5.1, 1.9],\n",
       "       [7.1, 3. , 5.9, 2.1],\n",
       "       [6.3, 2.9, 5.6, 1.8],\n",
       "       [6.5, 3. , 5.8, 2.2],\n",
       "       [7.6, 3. , 6.6, 2.1],\n",
       "       [4.9, 2.5, 4.5, 1.7],\n",
       "       [7.3, 2.9, 6.3, 1.8],\n",
       "       [6.7, 2.5, 5.8, 1.8],\n",
       "       [7.2, 3.6, 6.1, 2.5],\n",
       "       [6.5, 3.2, 5.1, 2. ],\n",
       "       [6.4, 2.7, 5.3, 1.9],\n",
       "       [6.8, 3. , 5.5, 2.1],\n",
       "       [5.7, 2.5, 5. , 2. ],\n",
       "       [5.8, 2.8, 5.1, 2.4],\n",
       "       [6.4, 3.2, 5.3, 2.3],\n",
       "       [6.5, 3. , 5.5, 1.8],\n",
       "       [7.7, 3.8, 6.7, 2.2],\n",
       "       [7.7, 2.6, 6.9, 2.3],\n",
       "       [6. , 2.2, 5. , 1.5],\n",
       "       [6.9, 3.2, 5.7, 2.3],\n",
       "       [5.6, 2.8, 4.9, 2. ],\n",
       "       [7.7, 2.8, 6.7, 2. ],\n",
       "       [6.3, 2.7, 4.9, 1.8],\n",
       "       [6.7, 3.3, 5.7, 2.1],\n",
       "       [7.2, 3.2, 6. , 1.8],\n",
       "       [6.2, 2.8, 4.8, 1.8],\n",
       "       [6.1, 3. , 4.9, 1.8],\n",
       "       [6.4, 2.8, 5.6, 2.1],\n",
       "       [7.2, 3. , 5.8, 1.6],\n",
       "       [7.4, 2.8, 6.1, 1.9],\n",
       "       [7.9, 3.8, 6.4, 2. ],\n",
       "       [6.4, 2.8, 5.6, 2.2],\n",
       "       [6.3, 2.8, 5.1, 1.5],\n",
       "       [6.1, 2.6, 5.6, 1.4],\n",
       "       [7.7, 3. , 6.1, 2.3],\n",
       "       [6.3, 3.4, 5.6, 2.4],\n",
       "       [6.4, 3.1, 5.5, 1.8],\n",
       "       [6. , 3. , 4.8, 1.8],\n",
       "       [6.9, 3.1, 5.4, 2.1],\n",
       "       [6.7, 3.1, 5.6, 2.4],\n",
       "       [6.9, 3.1, 5.1, 2.3],\n",
       "       [5.8, 2.7, 5.1, 1.9],\n",
       "       [6.8, 3.2, 5.9, 2.3],\n",
       "       [6.7, 3.3, 5.7, 2.5],\n",
       "       [6.7, 3. , 5.2, 2.3],\n",
       "       [6.3, 2.5, 5. , 1.9],\n",
       "       [6.5, 3. , 5.2, 2. ],\n",
       "       [6.2, 3.4, 5.4, 2.3],\n",
       "       [5.9, 3. , 5.1, 1.8]])"
      ]
     },
     "execution_count": 56,
     "metadata": {},
     "output_type": "execute_result"
    }
   ],
   "source": [
    "X"
   ]
  },
  {
   "cell_type": "code",
   "execution_count": 73,
   "id": "ca79bf0a",
   "metadata": {},
   "outputs": [],
   "source": [
    "# train test split\n",
    "X_train, X_test, y_train, y_test = train_test_split(X, y, test_size=0.2, random_state=41)"
   ]
  },
  {
   "cell_type": "code",
   "execution_count": 74,
   "id": "d75f834f",
   "metadata": {},
   "outputs": [],
   "source": [
    "X_train = torch.FloatTensor(X_train)\n",
    "X_test = torch.FloatTensor(X_test)\n",
    "y_train = torch.LongTensor(y_train)\n",
    "y_test = torch.LongTensor(y_test)"
   ]
  },
  {
   "cell_type": "code",
   "execution_count": 75,
   "id": "fa8bf3b9",
   "metadata": {},
   "outputs": [],
   "source": [
    "# Set the criterian of the model to measure the error\n",
    "criterian = nn.CrossEntropyLoss()"
   ]
  },
  {
   "cell_type": "code",
   "execution_count": 76,
   "id": "ceda1fa2",
   "metadata": {},
   "outputs": [],
   "source": [
    "# Choose the optimizer, Adam, \n",
    "# lr = learning rate, if error doesn't go down for certain iteration, we want to lower our leanring rate\n",
    "# the lower the lr, the longer the training will go\n",
    "optimizer = torch.optim.Adam(model.parameters(), lr=0.01)"
   ]
  },
  {
   "cell_type": "code",
   "execution_count": 81,
   "id": "d481272f",
   "metadata": {},
   "outputs": [
    {
     "name": "stdout",
     "output_type": "stream",
     "text": [
      "loss: 0.01781202293932438\n",
      "loss: 0.01605837792158127\n",
      "loss: 0.015622932463884354\n",
      "loss: 0.015120760537683964\n",
      "loss: 0.014668306335806847\n",
      "loss: 0.014293191023170948\n",
      "loss: 0.013918575830757618\n",
      "loss: 0.013561418280005455\n",
      "loss: 0.013212700374424458\n",
      "loss: 0.012872869148850441\n"
     ]
    }
   ],
   "source": [
    "# Train the model, ? Epochs (one run through all the layers)\n",
    "epochs = 100\n",
    "losses = []\n",
    "for i in range(epochs):\n",
    "    # forward and get a prediction\n",
    "    y_pred = model.forward(X_train)\n",
    "    \n",
    "    # Measure the loss/error\n",
    "    loss = criterian(y_pred, y_train) # predict vs train values\n",
    "    \n",
    "    # Keep track of the losses\n",
    "    losses.append(loss.detach().numpy())\n",
    "    \n",
    "    if i % 10 == 0:\n",
    "        print(f\"loss: {loss}\")\n",
    "    \n",
    "    # backward propagation, take the error rate of the forward pass and feed it backward\n",
    "    # through the network to fine tune the weights\n",
    "    optimizer.zero_grad()\n",
    "    loss.backward()\n",
    "    optimizer.step()"
   ]
  },
  {
   "cell_type": "code",
   "execution_count": 79,
   "id": "d2868ecd",
   "metadata": {},
   "outputs": [
    {
     "data": {
      "text/plain": [
       "Text(0.5, 0, 'Epoch')"
      ]
     },
     "execution_count": 79,
     "metadata": {},
     "output_type": "execute_result"
    },
    {
     "data": {
      "image/png": "[encoded data removed]",
      "text/plain": [
       "<Figure size 640x480 with 1 Axes>"
      ]
     },
     "metadata": {},
     "output_type": "display_data"
    }
   ],
   "source": [
    "plt.plot(range(epochs), losses)\n",
    "plt.ylabel('loss/error')\n",
    "plt.xlabel('Epoch')"
   ]
  },
  {
   "cell_type": "code",
   "execution_count": 82,
   "id": "a8d245e7",
   "metadata": {},
   "outputs": [],
   "source": [
    "# validate model on test data\n",
    "with torch.no_grad():   # turn off back propogation\n",
    "    y_eval = model.forward(X_test)\n",
    "    loss = criterian(y_eval, y_test)"
   ]
  },
  {
   "cell_type": "code",
   "execution_count": 83,
   "id": "5dff04a6",
   "metadata": {},
   "outputs": [
    {
     "data": {
      "text/plain": [
       "tensor(0.2117)"
      ]
     },
     "execution_count": 83,
     "metadata": {},
     "output_type": "execute_result"
    }
   ],
   "source": [
    "loss"
   ]
  },
  {
   "cell_type": "code",
   "execution_count": 92,
   "id": "71d2a846",
   "metadata": {},
   "outputs": [
    {
     "name": "stdout",
     "output_type": "stream",
     "text": [
      "1.) tensor([-7.4703,  5.0129, 11.3260]) \t 2 \t 2\n",
      "2.) tensor([-12.8838,  -0.3069,  18.8986]) \t 2 \t 2\n",
      "3.) tensor([-13.4980,   1.2475,  19.8060]) \t 2 \t 2\n",
      "4.) tensor([-0.8108, 11.9943,  2.3393]) \t 1 \t 1\n",
      "5.) tensor([-10.2906,   3.2802,  15.3231]) \t 2 \t 2\n",
      "6.) tensor([ 1.3735e+00,  1.1217e+01, -8.7976e-03]) \t 1 \t 1\n",
      "7.) tensor([-6.4471,  6.5799,  9.9555]) \t 2 \t 2\n",
      "8.) tensor([-0.5581, 11.8839,  2.0661]) \t 1 \t 1\n",
      "9.) tensor([-8.2842,  4.9833, 12.5281]) \t 2 \t 2\n",
      "10.) tensor([-13.7480,  -0.4455,  20.1316]) \t 2 \t 2\n",
      "11.) tensor([-5.6765,  7.2918,  8.8885]) \t 2 \t 2\n",
      "12.) tensor([ 14.9946,   6.8216, -14.6155]) \t 0 \t 0\n",
      "13.) tensor([ 13.5076,   6.0716, -13.1189]) \t 0 \t 0\n",
      "14.) tensor([ 2.6005,  9.1569, -1.4573]) \t 1 \t 1\n",
      "15.) tensor([ 13.3501,   6.9201, -12.8864]) \t 0 \t 0\n",
      "16.) tensor([-4.6969,  8.9701,  7.5050]) \t 2 \t 1\n",
      "17.) tensor([ 14.1144,   6.3776, -13.7296]) \t 0 \t 0\n",
      "18.) tensor([-6.8080,  5.9910, 10.4274]) \t 1 \t 2\n",
      "19.) tensor([ 14.4939,   6.5690, -14.1115]) \t 0 \t 0\n",
      "20.) tensor([ 12.5052,   5.7999, -12.0914]) \t 0 \t 0\n",
      "21.) tensor([ 2.0755, 10.1101, -0.8318]) \t 1 \t 1\n",
      "22.) tensor([-12.1846,   1.3544,  17.9703]) \t 2 \t 2\n",
      "23.) tensor([ 13.5896,   6.7569, -13.1501]) \t 0 \t 0\n",
      "24.) tensor([ 14.2232,   6.4325, -13.8391]) \t 0 \t 0\n",
      "25.) tensor([ 2.3801, 10.2504, -1.1394]) \t 1 \t 1\n",
      "26.) tensor([ 1.1944, 10.9631,  0.1584]) \t 1 \t 1\n",
      "27.) tensor([-1.1119, 12.4185,  2.6883]) \t 1 \t 1\n",
      "28.) tensor([ 1.7524, 10.8587, -0.4339]) \t 1 \t 1\n",
      "29.) tensor([ 14.7742,   6.7104, -14.3936]) \t 0 \t 0\n",
      "30.) tensor([-1.4178, 12.1218,  2.9848]) \t 1 \t 1\n",
      "We got 28 correct!\n"
     ]
    }
   ],
   "source": [
    "correct = 0\n",
    "with torch.no_grad():\n",
    "    for i, data in enumerate(X_test):\n",
    "        y_val = model.forward(data) \n",
    "        print(f'{i+1}.) {str(y_val)} \\t {y_test[i]} \\t {y_val.argmax().item()}')\n",
    "        \n",
    "        if y_val.argmax().item() == y_test[i]:\n",
    "            correct += 1\n",
    "print(f'We got {correct} correct!')"
   ]
  },
  {
   "cell_type": "code",
   "execution_count": null,
   "id": "3a4aacfa",
   "metadata": {},
   "outputs": [],
   "source": []
  }
 ],
 "metadata": {
  "kernelspec": {
   "display_name": "Python 3 (ipykernel)",
   "language": "python",
   "name": "python3"
  },
  "language_info": {
   "codemirror_mode": {
    "name": "ipython",
    "version": 3
   },
   "file_extension": ".py",
   "mimetype": "text/x-python",
   "name": "python",
   "nbconvert_exporter": "python",
   "pygments_lexer": "ipython3",
   "version": "3.9.13"
  }
 },
 "nbformat": 4,
 "nbformat_minor": 5
}
